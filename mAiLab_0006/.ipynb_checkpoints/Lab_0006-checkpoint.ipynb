{
 "cells": [
  {
   "cell_type": "markdown",
   "metadata": {},
   "source": [
    "## Pooling Operation\n",
    "For the data computation, pooling could reduce the overall loading for afterward works efficiently.\n",
    "The following examples show the ordinary operations of pooling.\n",
    "* For the upper case, **max pooling** is implemented.\n",
    "* For the lower case, **average pooling** is implemented."
   ]
  },
  {
   "cell_type": "code",
   "execution_count": 1,
   "metadata": {
    "collapsed": false
   },
   "outputs": [
    {
     "data": {
      "image/png": "[encoded data removed]",
      "text/plain": [
       "<matplotlib.figure.Figure at 0x10bfadb10>"
      ]
     },
     "metadata": {},
     "output_type": "display_data"
    }
   ],
   "source": [
    "%matplotlib inline\n",
    "from lab006 import *\n",
    "import numpy as np\n",
    "import matplotlib.pyplot as plt\n",
    "# Question 1\n",
    "target = list(mnist_read('train-images-idx3-ubyte', 'train-labels-idx1-ubyte'))\n",
    "\n",
    "plt.figure()\n",
    "for i in range(5):\n",
    "    label, img = target[i]\n",
    "    # Max Pooling\n",
    "    maxPoolResult = max_pooling(img)\n",
    "    maxPoolResult.astype(np.uint8)\n",
    "    plt.subplot(2, 5, i+1)\n",
    "    mnist_show(maxPoolResult)\n",
    "\n",
    "    # Average Pooling\n",
    "    avgPoolResult = avg_pooling(img)\n",
    "    avgPoolResult.astype(np.uint8)\n",
    "    plt.subplot(2, 5, i+6)\n",
    "    mnist_show(avgPoolResult)\n",
    "\n",
    "plt.show()"
   ]
  }
 ],
 "metadata": {
  "kernelspec": {
   "display_name": "Python 2",
   "language": "python",
   "name": "python2"
  },
  "language_info": {
   "codemirror_mode": {
    "name": "ipython",
    "version": 2
   },
   "file_extension": ".py",
   "mimetype": "text/x-python",
   "name": "python",
   "nbconvert_exporter": "python",
   "pygments_lexer": "ipython2",
   "version": "2.7.13"
  }
 },
 "nbformat": 4,
 "nbformat_minor": 2
}
